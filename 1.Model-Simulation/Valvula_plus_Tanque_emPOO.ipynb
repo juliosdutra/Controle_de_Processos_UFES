{
  "nbformat": 4,
  "nbformat_minor": 0,
  "metadata": {
    "colab": {
      "provenance": [],
      "authorship_tag": "ABX9TyMyCDGHQXYFIHXtlK7IdTho",
      "include_colab_link": true
    },
    "kernelspec": {
      "name": "python3",
      "display_name": "Python 3"
    },
    "language_info": {
      "name": "python"
    }
  },
  "cells": [
    {
      "cell_type": "markdown",
      "metadata": {
        "id": "view-in-github",
        "colab_type": "text"
      },
      "source": [
        "<a href=\"https://colab.research.google.com/github/juliosdutra/Controle_de_Processos_UFES/blob/main/1.Model-Simulation/Valvula_plus_Tanque_emPOO.ipynb\" target=\"_parent\"><img src=\"https://colab.research.google.com/assets/colab-badge.svg\" alt=\"Open In Colab\"/></a>"
      ]
    },
    {
      "cell_type": "markdown",
      "source": [
        "# Exemplo feito com auxilio do Chat GPT\n",
        "# Simulação de Tanque e Válvula com POO\n",
        "\n",
        "A ideia apresentada é modelar um tanque com uma válvula de saída que pode operar de diferentes maneiras (linear, quadrática, ou exponencial), utilizando Programação Orientada a Objetos (POO) para modularidade e extensibilidade.\n"
      ],
      "metadata": {
        "id": "9wZdohzLrrv1"
      }
    },
    {
      "cell_type": "code",
      "source": [
        "import numpy as  np\n",
        "import matplotlib.pyplot as plt\n",
        "from scipy.integrate import solve_ivp"
      ],
      "metadata": {
        "id": "lcl2HaaveiXm"
      },
      "execution_count": 1,
      "outputs": []
    },
    {
      "cell_type": "markdown",
      "source": [
        "# 1. Classe Base para a Válvula"
      ],
      "metadata": {
        "id": "KY-GDPWNtq-s"
      }
    },
    {
      "cell_type": "code",
      "source": [
        "class Valvula:\n",
        "    def __init__(self, Rv):\n",
        "        \"\"\"\n",
        "        Classe base para uma válvula genérica.\n",
        "\n",
        "        Args:\n",
        "            Rv: Resistência hidráulica da válvula.\n",
        "        \"\"\"\n",
        "        self.Rv = Rv\n",
        "\n",
        "    def calcular_vazao(self, h):\n",
        "        \"\"\"\n",
        "        Calcula a vazão com base na altura do tanque.\n",
        "        Este método deve ser sobrescrito pelas subclasses.\n",
        "        \"\"\"\n",
        "        raise NotImplementedError(\"Este método deve ser implementado na subclasse!\")\n",
        "\n"
      ],
      "metadata": {
        "id": "HfWJB5nQn5pz"
      },
      "execution_count": 10,
      "outputs": []
    },
    {
      "cell_type": "markdown",
      "source": [
        "# 2. Subclasses para Diferentes Tipos de Válvulas"
      ],
      "metadata": {
        "id": "vnd1Uzqytu3k"
      }
    },
    {
      "cell_type": "code",
      "source": [
        "class ValvulaLinear(Valvula):\n",
        "    def calcular_vazao(self, h):\n",
        "        \"\"\"\n",
        "        Válvula linear: q = h / Rv\n",
        "        \"\"\"\n",
        "        return h / self.Rv\n",
        "\n",
        "class ValvulaQuadratica(Valvula):\n",
        "    def calcular_vazao(self, h):\n",
        "        \"\"\"\n",
        "        Válvula quadrática: q = (h^2) / Rv\n",
        "        \"\"\"\n",
        "        return (h**2) / self.Rv\n",
        "\n",
        "class ValvulaExpoente(Valvula):\n",
        "    def __init__(self, Rv, n):\n",
        "        super().__init__(Rv)\n",
        "        self.n = n  # Expoente da válvula\n",
        "\n",
        "    def calcular_vazao(self, h):\n",
        "        \"\"\"\n",
        "        Válvula com expoente variável: q = (h^n) / Rv\n",
        "        \"\"\"\n",
        "        return (h**self.n) / self.Rv\n"
      ],
      "metadata": {
        "id": "omzhqEO4t1uy"
      },
      "execution_count": 3,
      "outputs": []
    },
    {
      "cell_type": "markdown",
      "source": [
        "# 3. Classe para o Tanque com Acoplamento de Válvula"
      ],
      "metadata": {
        "id": "XwJ7-7SFt-Rz"
      }
    },
    {
      "cell_type": "code",
      "source": [
        "class Tanque:\n",
        "    def __init__(self, A, valvula):\n",
        "        \"\"\"\n",
        "        Inicializa o tanque com uma válvula conectada.\n",
        "\n",
        "        Args:\n",
        "            A: Área da seção transversal do tanque.\n",
        "            valvula: Instância da classe Valvula.\n",
        "        \"\"\"\n",
        "        self.A = A\n",
        "        self.valvula = valvula  # Válvula acoplada\n",
        "\n",
        "    def modelo(self, t, x, u):\n",
        "        \"\"\"\n",
        "        Modelo do tanque com a válvula acoplada.\n",
        "\n",
        "        Args:\n",
        "            t: Tempo (não utilizado diretamente).\n",
        "            x: Lista de variáveis de estado (altura do tanque).\n",
        "            u: Lista de entradas do sistema (vazão de entrada).\n",
        "\n",
        "        Returns:\n",
        "            dxdt: Derivadas das variáveis de estado.\n",
        "        \"\"\"\n",
        "        h = x[0]  # Altura do tanque\n",
        "        q0 = u[0]  # Vazão de entrada\n",
        "        q = self.valvula.calcular_vazao(h)  # Vazão de saída pela válvula\n",
        "        dhdt = (q0 - q) / self.A  # Taxa de variação do nível\n",
        "        return [dhdt]\n",
        "\n",
        "    def simular(self, x0, u0, tspan, metodo='BDF'):\n",
        "        \"\"\"\n",
        "        Simula o tanque com a válvula acoplada.\n",
        "\n",
        "        Args:\n",
        "            x0: Condição inicial do nível do tanque.\n",
        "            u0: Entrada constante do sistema.\n",
        "            tspan: Intervalo de tempo [t_inicial, t_final].\n",
        "            metodo: Método numérico para integração.\n",
        "\n",
        "        Returns:\n",
        "            Solução da simulação.\n",
        "        \"\"\"\n",
        "        modelo = lambda t, x: self.modelo(t, x, u0)\n",
        "        sol = solve_ivp(modelo, tspan, x0, method=metodo)\n",
        "        return sol\n"
      ],
      "metadata": {
        "id": "vubzrcXgt_yD"
      },
      "execution_count": 5,
      "outputs": []
    },
    {
      "cell_type": "markdown",
      "source": [
        "# Exemplo de Uso"
      ],
      "metadata": {
        "id": "aIpZrHMfemGU"
      }
    },
    {
      "cell_type": "code",
      "source": [
        "# Parâmetros do tanque\n",
        "A = 1.0  # Área da seção transversal\n",
        "h0 = 2.5  # Altura inicial\n",
        "q0 = 10.0  # Vazão de entrada\n",
        "u0 = [q0 - 3.0]  # Vazão ajustada\n",
        "tspan = [0, 10.0]  # Intervalo de tempo\n",
        "\n",
        "# Escolha da válvula (linear, quadrática ou com expoente)\n",
        "# valvula_escolhida = ValvulaLinear(Rv=0.25)  # Troque por ValvulaQuadratica ou ValvulaExpoente\n",
        "# valvula_escolhida = ValvulaQuadratica(Rv=0.25)\n",
        "valvula_escolhida = ValvulaExpoente(Rv=0.25, n=1.5)\n",
        "\n",
        "# Instancia o tanque com a válvula escolhida\n",
        "tanque = Tanque(A, valvula_escolhida)\n",
        "\n",
        "# Simula o sistema\n",
        "sol = tanque.simular([h0], u0, tspan)\n",
        "\n",
        "# Resultados\n",
        "t = sol.t  # Tempo\n",
        "h = sol.y.flatten()  # Altura do nível\n",
        "\n",
        "plt.plot(t, h, 'b-', label='Nível do Tanque')\n",
        "plt.ylabel('Altura do Nível, m', fontsize=14)\n",
        "plt.xlabel('Tempo, min', fontsize=14)\n",
        "plt.title('Simulação de Tanque com Válvula', fontsize=16)\n",
        "plt.legend(fontsize=12)\n",
        "plt.grid()\n",
        "plt.show()"
      ],
      "metadata": {
        "id": "gK2B0MrUeoqj",
        "colab": {
          "base_uri": "https://localhost:8080/",
          "height": 480
        },
        "outputId": "2e6bef06-4966-4ba1-8df2-565437a30b16"
      },
      "execution_count": 9,
      "outputs": [
        {
          "output_type": "display_data",
          "data": {
            "text/plain": [
              "<Figure size 640x480 with 1 Axes>"
            ],
            "image/png": "[encoded data removed]"
          },
          "metadata": {}
        }
      ]
    },
    {
      "cell_type": "markdown",
      "source": [
        "# Vantagens Dessa Abordagem\n",
        "\n",
        "1. Escolha Dinâmica:\n",
        "* O usuário pode selecionar o tipo de válvula (`ValvulaLinear`, `ValvulaQuadratica`, etc.) no momento da simulação.\n",
        "* Novos tipos de válvulas podem ser adicionados facilmente como subclasses.\n",
        "\n",
        "2. Modularidade:\n",
        "* O tanque e as válvulas estão desacoplados, permitindo testes individuais.\n",
        "* Substituir ou modificar uma válvula não exige mudanças na classe `Tanque`.\n",
        "\n",
        "3. Interatividade:\n",
        "* É possível construir uma interface (via GUI ou CLI) para permitir que o usuário selecione a válvula de forma interativa.\n",
        "\n",
        "4. Aprendizado Aplicado:\n",
        "* Alunos podem implementar novos comportamentos para válvulas ou sistemas mais complexos conectando múltiplos tanques e válvulas.\n",
        "\n",
        "\n",
        "Essa abordagem é poderosa para ensinar conceitos de modelagem, modularidade e a importância da abstração em sistemas de engenharia."
      ],
      "metadata": {
        "id": "7Sg_YOwMuq7E"
      }
    },
    {
      "cell_type": "code",
      "source": [],
      "metadata": {
        "id": "hOat1auyvE0E"
      },
      "execution_count": null,
      "outputs": []
    }
  ]
}